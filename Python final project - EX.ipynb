{
 "cells": [
  {
   "cell_type": "markdown",
   "id": "d5c30eaf",
   "metadata": {},
   "source": [
    "## (1) Import and read data frame "
   ]
  },
  {
   "cell_type": "markdown",
   "id": "83ee2798",
   "metadata": {},
   "source": [
    "#### 1.1) Import the following libraries : "
   ]
  },
  {
   "cell_type": "code",
   "execution_count": 1,
   "id": "0533f0b1",
   "metadata": {
    "ExecuteTime": {
     "end_time": "2023-06-22T05:47:38.128054Z",
     "start_time": "2023-06-22T05:47:35.993493Z"
    },
    "run_control": {
     "marked": false
    }
   },
   "outputs": [],
   "source": [
    "import pandas as pd\n",
    "import numpy as np \n",
    "import seaborn as sns\n",
    "import matplotlib.pyplot as plt\n",
    "\n",
    "import warnings\n",
    "warnings.filterwarnings('ignore')"
   ]
  },
  {
   "cell_type": "markdown",
   "id": "f31690c4",
   "metadata": {},
   "source": [
    "#### 1.2) Read Data Frame :\n",
    "Load Mall Customer data frame "
   ]
  },
  {
   "cell_type": "code",
   "execution_count": null,
   "id": "dadc4ac5",
   "metadata": {
    "ExecuteTime": {
     "end_time": "2023-06-22T05:47:38.898457Z",
     "start_time": "2023-06-22T05:47:38.128054Z"
    }
   },
   "outputs": [],
   "source": []
  },
  {
   "cell_type": "markdown",
   "id": "842380a7",
   "metadata": {},
   "source": [
    "## (2) Analysis"
   ]
  },
  {
   "cell_type": "markdown",
   "id": "8bd55909",
   "metadata": {},
   "source": [
    "#### 2.1) describe ans Info functions \n",
    "Utilize the `describe` and `info` functions to apply descriptive statistics on the data frame and answers to the following inquiries:\n",
    "* How many customers are there in the data frame?\n",
    "* What is the average annual income per customer?\n",
    "* What is the median age of customers?\n",
    "* What are the standard deviations for age and annual income?"
   ]
  },
  {
   "cell_type": "code",
   "execution_count": null,
   "id": "bdc0b362",
   "metadata": {
    "ExecuteTime": {
     "end_time": "2023-06-20T17:40:03.304897Z",
     "start_time": "2023-06-20T17:40:03.269421Z"
    }
   },
   "outputs": [],
   "source": []
  },
  {
   "cell_type": "markdown",
   "id": "c35ef6ad",
   "metadata": {},
   "source": [
    "#### 2.2) Distribution\n",
    "- Generate a histogram accompanied by a distribution line for the annual income variable to visualize the data's variable distribution. <br>\n",
    "\n",
    "*You can use the `seaborn` library for the following questions.*"
   ]
  },
  {
   "cell_type": "code",
   "execution_count": null,
   "id": "bf624768",
   "metadata": {
    "ExecuteTime": {
     "end_time": "2023-06-20T17:40:03.815196Z",
     "start_time": "2023-06-20T17:40:03.337548Z"
    },
    "scrolled": true
   },
   "outputs": [],
   "source": []
  },
  {
   "cell_type": "markdown",
   "id": "f814a089",
   "metadata": {},
   "source": [
    "- Perform the same procedure for all relevant columns in the dataset"
   ]
  },
  {
   "cell_type": "code",
   "execution_count": null,
   "id": "644097f5",
   "metadata": {
    "ExecuteTime": {
     "end_time": "2023-06-20T17:40:04.292468Z",
     "start_time": "2023-06-20T17:40:03.818142Z"
    },
    "scrolled": true
   },
   "outputs": [],
   "source": []
  },
  {
   "cell_type": "markdown",
   "id": "86ccdf08",
   "metadata": {},
   "source": [
    "#### 2.3) Compare distributions \n",
    "- Utilize the kdeplot function to create a plot that illustrates the annual distribution of customers based on gender"
   ]
  },
  {
   "cell_type": "code",
   "execution_count": null,
   "id": "78a26038",
   "metadata": {
    "ExecuteTime": {
     "end_time": "2023-06-20T17:40:04.504455Z",
     "start_time": "2023-06-20T17:40:04.295067Z"
    },
    "scrolled": false
   },
   "outputs": [],
   "source": []
  },
  {
   "cell_type": "markdown",
   "id": "0fb55796",
   "metadata": {
    "ExecuteTime": {
     "end_time": "2023-06-17T07:55:34.782496Z",
     "start_time": "2023-06-17T07:55:34.767361Z"
    }
   },
   "source": [
    "- Perform the same procedure for all relevant columns in the dataset"
   ]
  },
  {
   "cell_type": "code",
   "execution_count": null,
   "id": "8316779c",
   "metadata": {
    "ExecuteTime": {
     "end_time": "2023-06-20T17:40:05.015230Z",
     "start_time": "2023-06-20T17:40:04.504455Z"
    },
    "scrolled": true
   },
   "outputs": [],
   "source": []
  },
  {
   "cell_type": "markdown",
   "id": "b7779d0e",
   "metadata": {},
   "source": [
    "#### 2.4) Boxplot\n",
    "- Generate box plots to compare the distribution of each continuous variable across different genders."
   ]
  },
  {
   "cell_type": "code",
   "execution_count": null,
   "id": "cf655359",
   "metadata": {
    "ExecuteTime": {
     "end_time": "2023-06-20T17:40:05.470132Z",
     "start_time": "2023-06-20T17:40:05.016207Z"
    },
    "scrolled": true
   },
   "outputs": [],
   "source": []
  },
  {
   "cell_type": "markdown",
   "id": "c2b6ffdd",
   "metadata": {},
   "source": [
    "#### 2.5) Proportions and Bar plot\n",
    "\n",
    "- What is the proportion of males and females in the dataset? <br> \n",
    "    plot the results using bar plot : You can enhance the visualization by adding axis labels and a title. <br>\n",
    "-     Additionally, you can tackle the challenging task of including a label for each column."
   ]
  },
  {
   "cell_type": "code",
   "execution_count": null,
   "id": "8ae4cf1b",
   "metadata": {
    "ExecuteTime": {
     "end_time": "2023-06-20T17:40:05.605385Z",
     "start_time": "2023-06-20T17:40:05.470132Z"
    }
   },
   "outputs": [],
   "source": []
  },
  {
   "cell_type": "markdown",
   "id": "6e7e5886",
   "metadata": {},
   "source": [
    "## (3) Bivariate Analysis"
   ]
  },
  {
   "cell_type": "markdown",
   "id": "cbab8804",
   "metadata": {},
   "source": [
    "#### 3.1) Scatter plot \n",
    "Create a scatter plot that displays the relationship between the annual income and spending score variables."
   ]
  },
  {
   "cell_type": "code",
   "execution_count": null,
   "id": "1c2ac24d",
   "metadata": {
    "ExecuteTime": {
     "end_time": "2023-06-20T17:40:05.785142Z",
     "start_time": "2023-06-20T17:40:05.605763Z"
    },
    "scrolled": true
   },
   "outputs": [],
   "source": []
  },
  {
   "cell_type": "markdown",
   "id": "b7588e31",
   "metadata": {},
   "source": [
    "#### 3.2) Pairplot\n",
    "Utilize the pairplot function to visualize the interactions between relevant variables in the data, categorized by gender. (Focus on the relevant columns)"
   ]
  },
  {
   "cell_type": "code",
   "execution_count": null,
   "id": "e31df9f7",
   "metadata": {
    "ExecuteTime": {
     "end_time": "2023-06-20T17:40:07.345937Z",
     "start_time": "2023-06-20T17:40:05.785161Z"
    },
    "scrolled": true
   },
   "outputs": [],
   "source": []
  },
  {
   "cell_type": "markdown",
   "id": "6bdb8e71",
   "metadata": {},
   "source": [
    "#### 3.3) Groupby\n",
    "Utilize the `groupby` function to calculate the average age, annual income, and spending score for each gender"
   ]
  },
  {
   "cell_type": "code",
   "execution_count": null,
   "id": "ee1620c8",
   "metadata": {
    "ExecuteTime": {
     "end_time": "2023-06-20T17:40:07.374547Z",
     "start_time": "2023-06-20T17:40:07.350515Z"
    }
   },
   "outputs": [],
   "source": []
  },
  {
   "cell_type": "markdown",
   "id": "63c3c7d7",
   "metadata": {},
   "source": [
    "#### 3.4) Correlation\n",
    "Using the corr function, calculate the correlation between all pairs of variables in the dataframe"
   ]
  },
  {
   "cell_type": "code",
   "execution_count": null,
   "id": "b3397ce0",
   "metadata": {
    "ExecuteTime": {
     "end_time": "2023-06-20T17:40:07.406932Z",
     "start_time": "2023-06-20T17:40:07.374547Z"
    }
   },
   "outputs": [],
   "source": []
  },
  {
   "cell_type": "markdown",
   "id": "50fede53",
   "metadata": {},
   "source": [
    "#### 3.5) Heat Map\n",
    "Create a heatmap to visualize the correlations found in the previous question."
   ]
  },
  {
   "cell_type": "code",
   "execution_count": null,
   "id": "fa3c44e3",
   "metadata": {
    "ExecuteTime": {
     "end_time": "2023-06-20T17:40:07.630893Z",
     "start_time": "2023-06-20T17:40:07.406932Z"
    }
   },
   "outputs": [],
   "source": []
  },
  {
   "cell_type": "markdown",
   "id": "f19b5a10",
   "metadata": {},
   "source": [
    "## (4) Pivot and Where functions"
   ]
  },
  {
   "cell_type": "markdown",
   "id": "eba79f6f",
   "metadata": {},
   "source": [
    "#### 4.1)  Pivot \n",
    "Show the average annual income by age and gender, reshape the data to contain gender type as columns and age as index, follow the steps: \n",
    "\n",
    "- Start with the original data frame showing the average annual income by age and gender.\n",
    "- Use the groupby function to create a grouped data frame by age and gender, using the mean function to calculate the average income. \n",
    "- use the pivot function to reshape the data frame, with gender types as column names and age as the index.\n",
    "- fill NA values with the following string : 'No data'"
   ]
  },
  {
   "cell_type": "code",
   "execution_count": null,
   "id": "1f352796",
   "metadata": {
    "ExecuteTime": {
     "end_time": "2023-06-20T17:40:07.682261Z",
     "start_time": "2023-06-20T17:40:07.630893Z"
    },
    "scrolled": true
   },
   "outputs": [],
   "source": []
  },
  {
   "cell_type": "markdown",
   "id": "c494ee56",
   "metadata": {},
   "source": [
    "#### 4.2) Where function  \n",
    "* Utilize the `where` function from the numpy library to incorporate a new column into the data frame. <br>\n",
    "    This additional column will consolidate the ages into four distinct age groups.\n",
    "\n",
    "* Employ the `groupby` function to group the data based on age group and gender. Calculate the count of customers and the average annual income for each combination of age group and gender.\n",
    "* Visualize the average annual income based on age group and gender."
   ]
  },
  {
   "cell_type": "code",
   "execution_count": null,
   "id": "adab45cd",
   "metadata": {
    "ExecuteTime": {
     "end_time": "2023-06-20T17:40:07.725550Z",
     "start_time": "2023-06-20T17:40:07.682261Z"
    },
    "run_control": {
     "marked": false
    },
    "scrolled": true
   },
   "outputs": [],
   "source": []
  },
  {
   "cell_type": "markdown",
   "id": "00aad650",
   "metadata": {},
   "source": [
    "#### 4.3) Classification  \n",
    "\n",
    "- Generate a new column named \"Spen_Class\" that comprises the spending score classification for each user. \n",
    "- The classification will depend on the values in the 'Spending Score (1-100)' column. \n",
    "- The specific method of classification will be determined by your discretion.\n",
    "- Present the head of the data "
   ]
  },
  {
   "cell_type": "code",
   "execution_count": null,
   "id": "643c775f",
   "metadata": {},
   "outputs": [],
   "source": []
  },
  {
   "cell_type": "markdown",
   "id": "13681df3",
   "metadata": {},
   "source": [
    "- Prepare an informative plot that illustrates the differences between classes in a clear and concise manner"
   ]
  },
  {
   "cell_type": "code",
   "execution_count": null,
   "id": "50449cb1",
   "metadata": {},
   "outputs": [],
   "source": []
  }
 ],
 "metadata": {
  "kernelspec": {
   "display_name": "Python 3 (ipykernel)",
   "language": "python",
   "name": "python3"
  },
  "language_info": {
   "codemirror_mode": {
    "name": "ipython",
    "version": 3
   },
   "file_extension": ".py",
   "mimetype": "text/x-python",
   "name": "python",
   "nbconvert_exporter": "python",
   "pygments_lexer": "ipython3",
   "version": "3.9.13"
  }
 },
 "nbformat": 4,
 "nbformat_minor": 5
}
